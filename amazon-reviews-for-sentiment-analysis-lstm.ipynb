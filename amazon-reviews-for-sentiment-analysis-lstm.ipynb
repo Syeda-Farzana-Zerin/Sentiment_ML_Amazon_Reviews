{
 "cells": [
  {
   "cell_type": "code",
   "execution_count": 1,
   "id": "0094a48f",
   "metadata": {
    "_cell_guid": "6e5692cb-e83a-4674-959f-ce74a16644b8",
    "_uuid": "8e504cfa-92b8-48a6-922c-84a39dcae6e6",
    "execution": {
     "iopub.execute_input": "2023-12-23T18:46:16.245632Z",
     "iopub.status.busy": "2023-12-23T18:46:16.244811Z",
     "iopub.status.idle": "2023-12-23T18:46:29.122628Z",
     "shell.execute_reply": "2023-12-23T18:46:29.121712Z"
    },
    "jupyter": {
     "outputs_hidden": false
    },
    "papermill": {
     "duration": 12.88922,
     "end_time": "2023-12-23T18:46:29.125165",
     "exception": false,
     "start_time": "2023-12-23T18:46:16.235945",
     "status": "completed"
    },
    "tags": []
   },
   "outputs": [
    {
     "ename": "ModuleNotFoundError",
     "evalue": "No module named 'tensorflow'",
     "output_type": "error",
     "traceback": [
      "\u001b[1;31m---------------------------------------------------------------------------\u001b[0m",
      "\u001b[1;31mModuleNotFoundError\u001b[0m                       Traceback (most recent call last)",
      "Cell \u001b[1;32mIn[1], line 5\u001b[0m\n\u001b[0;32m      3\u001b[0m \u001b[38;5;28;01mimport\u001b[39;00m \u001b[38;5;21;01mre\u001b[39;00m\n\u001b[0;32m      4\u001b[0m \u001b[38;5;28;01mfrom\u001b[39;00m \u001b[38;5;21;01msklearn\u001b[39;00m\u001b[38;5;21;01m.\u001b[39;00m\u001b[38;5;21;01mmodel_selection\u001b[39;00m \u001b[38;5;28;01mimport\u001b[39;00m train_test_split\n\u001b[1;32m----> 5\u001b[0m \u001b[38;5;28;01mfrom\u001b[39;00m \u001b[38;5;21;01mtensorflow\u001b[39;00m\u001b[38;5;21;01m.\u001b[39;00m\u001b[38;5;21;01mkeras\u001b[39;00m\u001b[38;5;21;01m.\u001b[39;00m\u001b[38;5;21;01mpreprocessing\u001b[39;00m\u001b[38;5;21;01m.\u001b[39;00m\u001b[38;5;21;01mtext\u001b[39;00m \u001b[38;5;28;01mimport\u001b[39;00m Tokenizer\n\u001b[0;32m      6\u001b[0m \u001b[38;5;28;01mfrom\u001b[39;00m \u001b[38;5;21;01mtensorflow\u001b[39;00m\u001b[38;5;21;01m.\u001b[39;00m\u001b[38;5;21;01mkeras\u001b[39;00m\u001b[38;5;21;01m.\u001b[39;00m\u001b[38;5;21;01mpreprocessing\u001b[39;00m\u001b[38;5;21;01m.\u001b[39;00m\u001b[38;5;21;01msequence\u001b[39;00m \u001b[38;5;28;01mimport\u001b[39;00m pad_sequences\n\u001b[0;32m      7\u001b[0m \u001b[38;5;28;01mfrom\u001b[39;00m \u001b[38;5;21;01mtensorflow\u001b[39;00m\u001b[38;5;21;01m.\u001b[39;00m\u001b[38;5;21;01mkeras\u001b[39;00m\u001b[38;5;21;01m.\u001b[39;00m\u001b[38;5;21;01mmodels\u001b[39;00m \u001b[38;5;28;01mimport\u001b[39;00m Sequential\n",
      "\u001b[1;31mModuleNotFoundError\u001b[0m: No module named 'tensorflow'"
     ]
    }
   ],
   "source": [
    "import numpy as np\n",
    "import pandas as pd \n",
    "import re\n",
    "from sklearn.model_selection import train_test_split\n",
    "from tensorflow.keras.preprocessing.text import Tokenizer\n",
    "from tensorflow.keras.preprocessing.sequence import pad_sequences\n",
    "from tensorflow.keras.models import Sequential\n",
    "from tensorflow.keras.layers import Embedding, LSTM, Dense, Dropout\n",
    "from sklearn.metrics import confusion_matrix, classification_report\n",
    "from tensorflow.keras.optimizers import SGD, Adam\n",
    "import bz2\n",
    "import csv\n",
    "from sklearn.metrics import roc_auc_score"
   ]
  },
  {
   "cell_type": "code",
   "execution_count": 2,
   "id": "163e863b",
   "metadata": {
    "_cell_guid": "25feccc9-9655-41f2-89c0-9e13d8932c50",
    "_uuid": "78620912-e50c-4723-aa37-b6f76c0762bd",
    "execution": {
     "iopub.execute_input": "2023-12-23T18:46:29.141887Z",
     "iopub.status.busy": "2023-12-23T18:46:29.140802Z",
     "iopub.status.idle": "2023-12-23T18:48:14.445710Z",
     "shell.execute_reply": "2023-12-23T18:48:14.444718Z"
    },
    "jupyter": {
     "outputs_hidden": false
    },
    "papermill": {
     "duration": 105.315428,
     "end_time": "2023-12-23T18:48:14.448088",
     "exception": false,
     "start_time": "2023-12-23T18:46:29.132660",
     "status": "completed"
    },
    "tags": []
   },
   "outputs": [
    {
     "name": "stdout",
     "output_type": "stream",
     "text": [
      "3600000\n",
      "400000\n"
     ]
    }
   ],
   "source": [
    "# Load the training data \n",
    "training_data = bz2.BZ2File(\"./train.ft.txt.bz2\")\n",
    "training_data = training_data.readlines()\n",
    "training_data = [x.decode('utf-8') for x in training_data]\n",
    "print(len(training_data))\n",
    "\n",
    "# Load the test data \n",
    "test_data = bz2.BZ2File(\"./test.ft.txt.bz2\")\n",
    "test_data = test_data.readlines()\n",
    "test_data = [x.decode('utf-8') for x in test_data]\n",
    "print(len(test_data))"
   ]
  },
  {
   "cell_type": "code",
   "execution_count": 3,
   "id": "aa64d654",
   "metadata": {
    "_cell_guid": "29090093-9866-48d6-91e5-8961d5608e1e",
    "_uuid": "d62ace7d-f5e8-4d0b-b12a-5bd0b063004a",
    "execution": {
     "iopub.execute_input": "2023-12-23T18:48:14.462867Z",
     "iopub.status.busy": "2023-12-23T18:48:14.462335Z",
     "iopub.status.idle": "2023-12-23T18:48:30.096321Z",
     "shell.execute_reply": "2023-12-23T18:48:30.095345Z"
    },
    "jupyter": {
     "outputs_hidden": false
    },
    "papermill": {
     "duration": 15.644064,
     "end_time": "2023-12-23T18:48:30.098775",
     "exception": false,
     "start_time": "2023-12-23T18:48:14.454711",
     "status": "completed"
    },
    "tags": []
   },
   "outputs": [],
   "source": [
    "# Split the data into labels and texts\n",
    "train_labels = [int(re.findall(r'__label__(\\d)', line)[0]) for line in training_data]\n",
    "train_texts = [re.sub(r'__label__\\d ', '', line) for line in training_data]\n",
    "\n",
    "test_labels = [int(re.findall(r'__label__(\\d)', line)[0]) for line in test_data]\n",
    "test_texts = [re.sub(r'__label__\\d ', '', line) for line in test_data]\n",
    "\n",
    "# Convert labels to binary (0 and 1)\n",
    "train_labels = [0 if label == 1 else 1 for label in train_labels]\n",
    "test_labels = [0 if label == 1 else 1 for label in test_labels]"
   ]
  },
  {
   "cell_type": "markdown",
   "id": "dd4d938f",
   "metadata": {
    "_cell_guid": "4edd904e-fd85-46f7-91e7-c67d856032f0",
    "_uuid": "888a9d70-8fcc-4285-b100-ff26fe041667",
    "papermill": {
     "duration": 0.006289,
     "end_time": "2023-12-23T18:48:30.111749",
     "exception": false,
     "start_time": "2023-12-23T18:48:30.105460",
     "status": "completed"
    },
    "tags": []
   },
   "source": [
    "**Text Preprocessing**"
   ]
  },
  {
   "cell_type": "code",
   "execution_count": 4,
   "id": "74c6932c",
   "metadata": {
    "_cell_guid": "7d2c723a-5056-411c-8427-fda51a59bb12",
    "_uuid": "3db6a594-b974-4d64-a3bd-e0a5b2aed56a",
    "execution": {
     "iopub.execute_input": "2023-12-23T18:48:30.125452Z",
     "iopub.status.busy": "2023-12-23T18:48:30.125111Z",
     "iopub.status.idle": "2023-12-23T18:48:30.130204Z",
     "shell.execute_reply": "2023-12-23T18:48:30.129277Z"
    },
    "jupyter": {
     "outputs_hidden": false
    },
    "papermill": {
     "duration": 0.014227,
     "end_time": "2023-12-23T18:48:30.132224",
     "exception": false,
     "start_time": "2023-12-23T18:48:30.117997",
     "status": "completed"
    },
    "tags": []
   },
   "outputs": [],
   "source": [
    "def clean_text(text):\n",
    "    # Remove non-alphanumeric characters and extra whitespace\n",
    "    text = re.sub(r'[^a-zA-Z\\s]', '', text)\n",
    "    # Convert multiple whitespace characters to a single space\n",
    "    text = re.sub(r'\\s+', ' ', text)\n",
    "    # Convert the text to lowercase\n",
    "    text = text.lower()\n",
    "    return text"
   ]
  },
  {
   "cell_type": "code",
   "execution_count": 5,
   "id": "f6285f92",
   "metadata": {
    "_cell_guid": "4b8730e1-8e52-4486-88ed-ab8929f9a18b",
    "_uuid": "44c744ae-ef7f-4740-bc44-d237521dcd15",
    "execution": {
     "iopub.execute_input": "2023-12-23T18:48:30.146273Z",
     "iopub.status.busy": "2023-12-23T18:48:30.145737Z",
     "iopub.status.idle": "2023-12-23T18:52:03.262991Z",
     "shell.execute_reply": "2023-12-23T18:52:03.261880Z"
    },
    "jupyter": {
     "outputs_hidden": false
    },
    "papermill": {
     "duration": 213.127367,
     "end_time": "2023-12-23T18:52:03.266226",
     "exception": false,
     "start_time": "2023-12-23T18:48:30.138859",
     "status": "completed"
    },
    "tags": []
   },
   "outputs": [],
   "source": [
    "train_texts=pd.DataFrame(train_texts)[0].apply(clean_text)\n",
    "test_texts=pd.DataFrame(test_texts)[0].apply(clean_text)"
   ]
  },
  {
   "cell_type": "code",
   "execution_count": 6,
   "id": "6ce0be1f",
   "metadata": {
    "_cell_guid": "4eb156c4-ccc1-49f5-bd03-3b89a226cf31",
    "_uuid": "a8e77d28-03b6-4ff2-895e-95ee45f5732f",
    "execution": {
     "iopub.execute_input": "2023-12-23T18:52:03.286133Z",
     "iopub.status.busy": "2023-12-23T18:52:03.285282Z",
     "iopub.status.idle": "2023-12-23T18:52:03.629220Z",
     "shell.execute_reply": "2023-12-23T18:52:03.628050Z"
    },
    "jupyter": {
     "outputs_hidden": false
    },
    "papermill": {
     "duration": 0.356084,
     "end_time": "2023-12-23T18:52:03.631986",
     "exception": false,
     "start_time": "2023-12-23T18:52:03.275902",
     "status": "completed"
    },
    "tags": []
   },
   "outputs": [
    {
     "data": {
      "text/plain": [
       "0    200000\n",
       "1    200000\n",
       "dtype: int64"
      ]
     },
     "execution_count": 6,
     "metadata": {},
     "output_type": "execute_result"
    }
   ],
   "source": [
    "pd.DataFrame(test_labels).value_counts()"
   ]
  },
  {
   "cell_type": "code",
   "execution_count": 7,
   "id": "75430ed9",
   "metadata": {
    "_cell_guid": "30b13935-a3fb-4684-8ef0-8467bfc25468",
    "_uuid": "552a3874-628b-4798-90b8-92201e894984",
    "execution": {
     "iopub.execute_input": "2023-12-23T18:52:03.648207Z",
     "iopub.status.busy": "2023-12-23T18:52:03.647513Z",
     "iopub.status.idle": "2023-12-23T18:52:03.653896Z",
     "shell.execute_reply": "2023-12-23T18:52:03.653040Z"
    },
    "jupyter": {
     "outputs_hidden": false
    },
    "papermill": {
     "duration": 0.01657,
     "end_time": "2023-12-23T18:52:03.656298",
     "exception": false,
     "start_time": "2023-12-23T18:52:03.639728",
     "status": "completed"
    },
    "tags": []
   },
   "outputs": [
    {
     "data": {
      "text/plain": [
       "3600000"
      ]
     },
     "execution_count": 7,
     "metadata": {},
     "output_type": "execute_result"
    }
   ],
   "source": [
    "len(train_texts)"
   ]
  },
  {
   "cell_type": "code",
   "execution_count": 8,
   "id": "9cd2e2f7",
   "metadata": {
    "_cell_guid": "ee844d2c-094b-43c2-866e-0cfb91260e77",
    "_uuid": "f93acea5-9015-414a-a864-7989f4fc7f1d",
    "execution": {
     "iopub.execute_input": "2023-12-23T18:52:03.676147Z",
     "iopub.status.busy": "2023-12-23T18:52:03.675868Z",
     "iopub.status.idle": "2023-12-23T18:52:03.681480Z",
     "shell.execute_reply": "2023-12-23T18:52:03.680634Z"
    },
    "jupyter": {
     "outputs_hidden": false
    },
    "papermill": {
     "duration": 0.01753,
     "end_time": "2023-12-23T18:52:03.683426",
     "exception": false,
     "start_time": "2023-12-23T18:52:03.665896",
     "status": "completed"
    },
    "tags": []
   },
   "outputs": [
    {
     "data": {
      "text/plain": [
       "400000"
      ]
     },
     "execution_count": 8,
     "metadata": {},
     "output_type": "execute_result"
    }
   ],
   "source": [
    "len(test_texts)"
   ]
  },
  {
   "cell_type": "code",
   "execution_count": 9,
   "id": "da1b89d0",
   "metadata": {
    "_cell_guid": "88624384-a790-46a1-a4ab-fdaaa72aad2c",
    "_uuid": "76a4071f-0a87-4ef0-ba09-78ed17bf1f25",
    "execution": {
     "iopub.execute_input": "2023-12-23T18:52:03.698079Z",
     "iopub.status.busy": "2023-12-23T18:52:03.697811Z",
     "iopub.status.idle": "2023-12-23T19:00:48.746003Z",
     "shell.execute_reply": "2023-12-23T19:00:48.745183Z"
    },
    "jupyter": {
     "outputs_hidden": false
    },
    "papermill": {
     "duration": 525.05839,
     "end_time": "2023-12-23T19:00:48.748633",
     "exception": false,
     "start_time": "2023-12-23T18:52:03.690243",
     "status": "completed"
    },
    "tags": []
   },
   "outputs": [],
   "source": [
    "# Tokenization and padding\n",
    "max_words = 1000\n",
    "max_sequence_length = 100\n",
    "\n",
    "tokenizer = Tokenizer(num_words=max_words)\n",
    "tokenizer.fit_on_texts(train_texts)\n",
    "\n",
    "X_train = tokenizer.texts_to_sequences(train_texts)\n",
    "X_test = tokenizer.texts_to_sequences(test_texts)\n",
    "\n",
    "X_train = pad_sequences(X_train, maxlen=max_sequence_length)\n",
    "X_test = pad_sequences(X_test, maxlen=max_sequence_length)"
   ]
  },
  {
   "cell_type": "code",
   "execution_count": 10,
   "id": "36156789",
   "metadata": {
    "_cell_guid": "71ec43b4-8117-47c5-95b6-5567f259ac77",
    "_uuid": "43c15de8-0c8e-4b8f-ac56-d0af46adc32a",
    "execution": {
     "iopub.execute_input": "2023-12-23T19:00:48.764111Z",
     "iopub.status.busy": "2023-12-23T19:00:48.763809Z",
     "iopub.status.idle": "2023-12-23T19:00:49.664226Z",
     "shell.execute_reply": "2023-12-23T19:00:49.663127Z"
    },
    "jupyter": {
     "outputs_hidden": false
    },
    "papermill": {
     "duration": 0.910658,
     "end_time": "2023-12-23T19:00:49.666402",
     "exception": false,
     "start_time": "2023-12-23T19:00:48.755744",
     "status": "completed"
    },
    "tags": []
   },
   "outputs": [
    {
     "name": "stdout",
     "output_type": "stream",
     "text": [
      "(3600000, 100)\n",
      "(400000, 100)\n",
      "(3600000,)\n",
      "(400000,)\n"
     ]
    }
   ],
   "source": [
    "X_train = np.array(X_train)\n",
    "print(X_train.shape)\n",
    "X_test = np.array(X_test)\n",
    "print(X_test.shape)\n",
    "y_train = np.array(train_labels)\n",
    "print(y_train.shape)\n",
    "y_test = np.array(test_labels)\n",
    "print(y_test.shape)"
   ]
  },
  {
   "cell_type": "code",
   "execution_count": 11,
   "id": "c3ec9761",
   "metadata": {
    "_cell_guid": "ff8bf063-9238-4212-92ff-5b407a5b2c81",
    "_uuid": "9906bc5f-a95c-4017-99f3-ebb652e0379e",
    "execution": {
     "iopub.execute_input": "2023-12-23T19:00:49.682419Z",
     "iopub.status.busy": "2023-12-23T19:00:49.681798Z",
     "iopub.status.idle": "2023-12-23T19:00:53.616224Z",
     "shell.execute_reply": "2023-12-23T19:00:53.615093Z"
    },
    "jupyter": {
     "outputs_hidden": false
    },
    "papermill": {
     "duration": 3.951053,
     "end_time": "2023-12-23T19:00:53.624706",
     "exception": false,
     "start_time": "2023-12-23T19:00:49.673653",
     "status": "completed"
    },
    "tags": []
   },
   "outputs": [
    {
     "name": "stdout",
     "output_type": "stream",
     "text": [
      "Model: \"sequential\"\n",
      "_________________________________________________________________\n",
      " Layer (type)                Output Shape              Param #   \n",
      "=================================================================\n",
      " embedding (Embedding)       (None, 100, 128)          128000    \n",
      "                                                                 \n",
      " lstm (LSTM)                 (None, 100, 128)          131584    \n",
      "                                                                 \n",
      " dropout (Dropout)           (None, 100, 128)          0         \n",
      "                                                                 \n",
      " lstm_1 (LSTM)               (None, 128)               131584    \n",
      "                                                                 \n",
      " dense (Dense)               (None, 1)                 129       \n",
      "                                                                 \n",
      "=================================================================\n",
      "Total params: 391,297\n",
      "Trainable params: 391,297\n",
      "Non-trainable params: 0\n",
      "_________________________________________________________________\n"
     ]
    }
   ],
   "source": [
    "## Create the model\n",
    "\n",
    "model = Sequential()\n",
    "model.add(Embedding(input_dim=max_words, output_dim=128, input_length=max_sequence_length))\n",
    "model.add(LSTM(units=128, return_sequences=True))\n",
    "model.add(Dropout(rate=0.2))  \n",
    "model.add(LSTM(units=128))\n",
    "model.add(Dense(1,activation='sigmoid'))\n",
    "model.summary()"
   ]
  },
  {
   "cell_type": "code",
   "execution_count": 12,
   "id": "e24c5acd",
   "metadata": {
    "_cell_guid": "539f0d0c-20c1-4d5e-a70d-cf27f0fb9ea6",
    "_uuid": "f50e04da-06b6-4e74-bb3d-f48b8d7de841",
    "execution": {
     "iopub.execute_input": "2023-12-23T19:00:53.645942Z",
     "iopub.status.busy": "2023-12-23T19:00:53.645631Z",
     "iopub.status.idle": "2023-12-23T19:08:44.624609Z",
     "shell.execute_reply": "2023-12-23T19:08:44.623704Z"
    },
    "jupyter": {
     "outputs_hidden": false
    },
    "papermill": {
     "duration": 470.991776,
     "end_time": "2023-12-23T19:08:44.626739",
     "exception": false,
     "start_time": "2023-12-23T19:00:53.634963",
     "status": "completed"
    },
    "tags": []
   },
   "outputs": [
    {
     "name": "stdout",
     "output_type": "stream",
     "text": [
      "Epoch 1/2\n",
      "1583/1583 [==============================] - 6755s 4s/step - loss: 0.2540 - accuracy: 0.8933 - val_loss: 0.2274 - val_accuracy: 0.9078\n",
      "Epoch 2/2\n",
      "1583/1583 [==============================] - 6499s 4s/step - loss: 0.2046 - accuracy: 0.9174 - val_loss: 0.1912 - val_accuracy: 0.9235\n"
     ]
    },
    {
     "data": {
      "text/plain": [
       "<keras.callbacks.History at 0x1c552989760>"
      ]
     },
     "execution_count": 12,
     "metadata": {},
     "output_type": "execute_result"
    }
   ],
   "source": [
    "model.compile(loss='binary_crossentropy', optimizer='Adam', metrics=['accuracy'])\n",
    "model.fit(X_train, y_train, epochs=2, batch_size=2048, verbose=1, validation_split=.1)"
   ]
  },
  {
   "cell_type": "code",
   "execution_count": 15,
   "id": "3ee54029",
   "metadata": {
    "_cell_guid": "081cd0fa-7ee5-4dea-b39d-01d8e7fe3d73",
    "_uuid": "a2371de1-428f-4589-8a0c-9cb8b69e1dd9",
    "execution": {
     "iopub.execute_input": "2023-12-23T19:08:45.165114Z",
     "iopub.status.busy": "2023-12-23T19:08:45.164673Z",
     "iopub.status.idle": "2023-12-23T19:09:48.188556Z",
     "shell.execute_reply": "2023-12-23T19:09:48.187339Z"
    },
    "jupyter": {
     "outputs_hidden": false
    },
    "papermill": {
     "duration": 63.288008,
     "end_time": "2023-12-23T19:09:48.190973",
     "exception": false,
     "start_time": "2023-12-23T19:08:44.902965",
     "status": "completed"
    },
    "tags": []
   },
   "outputs": [
    {
     "name": "stdout",
     "output_type": "stream",
     "text": [
      "12500/12500 [==============================] - 843s 67ms/step - loss: 0.1976 - accuracy: 0.9206\n",
      "Loss: 0.19760292768478394\n",
      "Accuracy: 0.9205600023269653\n"
     ]
    }
   ],
   "source": [
    "loss,accuracy = model.evaluate(X_test, y_test)\n",
    "print(\"Loss:\", loss)\n",
    "print(\"Accuracy:\", accuracy)"
   ]
  },
  {
   "cell_type": "code",
   "execution_count": 16,
   "id": "89e854d6",
   "metadata": {
    "_cell_guid": "64a499fa-7c32-435a-bd8d-a2fdcfcd3c23",
    "_uuid": "808a3c8b-c6ab-4ad6-afc5-52a7d6a3341b",
    "execution": {
     "iopub.execute_input": "2023-12-23T19:09:48.929356Z",
     "iopub.status.busy": "2023-12-23T19:09:48.928961Z",
     "iopub.status.idle": "2023-12-23T19:10:49.308828Z",
     "shell.execute_reply": "2023-12-23T19:10:49.307934Z"
    },
    "jupyter": {
     "outputs_hidden": false
    },
    "papermill": {
     "duration": 60.744966,
     "end_time": "2023-12-23T19:10:49.311352",
     "exception": false,
     "start_time": "2023-12-23T19:09:48.566386",
     "status": "completed"
    },
    "tags": []
   },
   "outputs": [
    {
     "name": "stdout",
     "output_type": "stream",
     "text": [
      "12500/12500 [==============================] - 714s 57ms/step\n"
     ]
    }
   ],
   "source": [
    "prediction=model.predict(X_test)\n",
    "y_pred=np.where(prediction>=.5,1,0)\n",
    "df=pd.DataFrame()\n",
    "df['actual'],df['pred']=y_test,y_pred"
   ]
  },
  {
   "cell_type": "code",
   "execution_count": 17,
   "id": "5d31d75d",
   "metadata": {
    "_cell_guid": "d68f3cb1-8583-4835-8fba-e69fa08a4c4e",
    "_uuid": "3786292a-eafd-4e99-b6b3-a38efacf80fc",
    "execution": {
     "iopub.execute_input": "2023-12-23T19:10:50.187256Z",
     "iopub.status.busy": "2023-12-23T19:10:50.186781Z",
     "iopub.status.idle": "2023-12-23T19:10:50.202080Z",
     "shell.execute_reply": "2023-12-23T19:10:50.201181Z"
    },
    "jupyter": {
     "outputs_hidden": false
    },
    "papermill": {
     "duration": 0.456555,
     "end_time": "2023-12-23T19:10:50.204283",
     "exception": false,
     "start_time": "2023-12-23T19:10:49.747728",
     "status": "completed"
    },
    "tags": []
   },
   "outputs": [
    {
     "data": {
      "text/html": [
       "<div>\n",
       "<style scoped>\n",
       "    .dataframe tbody tr th:only-of-type {\n",
       "        vertical-align: middle;\n",
       "    }\n",
       "\n",
       "    .dataframe tbody tr th {\n",
       "        vertical-align: top;\n",
       "    }\n",
       "\n",
       "    .dataframe thead th {\n",
       "        text-align: right;\n",
       "    }\n",
       "</style>\n",
       "<table border=\"1\" class=\"dataframe\">\n",
       "  <thead>\n",
       "    <tr style=\"text-align: right;\">\n",
       "      <th></th>\n",
       "      <th>actual</th>\n",
       "      <th>pred</th>\n",
       "    </tr>\n",
       "  </thead>\n",
       "  <tbody>\n",
       "    <tr>\n",
       "      <th>0</th>\n",
       "      <td>1</td>\n",
       "      <td>1</td>\n",
       "    </tr>\n",
       "    <tr>\n",
       "      <th>1</th>\n",
       "      <td>1</td>\n",
       "      <td>1</td>\n",
       "    </tr>\n",
       "    <tr>\n",
       "      <th>2</th>\n",
       "      <td>0</td>\n",
       "      <td>0</td>\n",
       "    </tr>\n",
       "    <tr>\n",
       "      <th>3</th>\n",
       "      <td>1</td>\n",
       "      <td>1</td>\n",
       "    </tr>\n",
       "    <tr>\n",
       "      <th>4</th>\n",
       "      <td>1</td>\n",
       "      <td>1</td>\n",
       "    </tr>\n",
       "    <tr>\n",
       "      <th>...</th>\n",
       "      <td>...</td>\n",
       "      <td>...</td>\n",
       "    </tr>\n",
       "    <tr>\n",
       "      <th>399995</th>\n",
       "      <td>0</td>\n",
       "      <td>0</td>\n",
       "    </tr>\n",
       "    <tr>\n",
       "      <th>399996</th>\n",
       "      <td>0</td>\n",
       "      <td>0</td>\n",
       "    </tr>\n",
       "    <tr>\n",
       "      <th>399997</th>\n",
       "      <td>0</td>\n",
       "      <td>0</td>\n",
       "    </tr>\n",
       "    <tr>\n",
       "      <th>399998</th>\n",
       "      <td>1</td>\n",
       "      <td>1</td>\n",
       "    </tr>\n",
       "    <tr>\n",
       "      <th>399999</th>\n",
       "      <td>0</td>\n",
       "      <td>0</td>\n",
       "    </tr>\n",
       "  </tbody>\n",
       "</table>\n",
       "<p>400000 rows × 2 columns</p>\n",
       "</div>"
      ],
      "text/plain": [
       "        actual  pred\n",
       "0            1     1\n",
       "1            1     1\n",
       "2            0     0\n",
       "3            1     1\n",
       "4            1     1\n",
       "...        ...   ...\n",
       "399995       0     0\n",
       "399996       0     0\n",
       "399997       0     0\n",
       "399998       1     1\n",
       "399999       0     0\n",
       "\n",
       "[400000 rows x 2 columns]"
      ]
     },
     "execution_count": 17,
     "metadata": {},
     "output_type": "execute_result"
    }
   ],
   "source": [
    "df"
   ]
  },
  {
   "cell_type": "code",
   "execution_count": 18,
   "id": "ca39650d",
   "metadata": {
    "_cell_guid": "8c0262f5-851c-4f39-8834-ef22e315e3a5",
    "_uuid": "bec73ef5-a1b3-46df-bba7-f4cf62b5d038",
    "execution": {
     "iopub.execute_input": "2023-12-23T19:10:51.168114Z",
     "iopub.status.busy": "2023-12-23T19:10:51.167491Z",
     "iopub.status.idle": "2023-12-23T19:10:51.818017Z",
     "shell.execute_reply": "2023-12-23T19:10:51.817023Z"
    },
    "jupyter": {
     "outputs_hidden": false
    },
    "papermill": {
     "duration": 1.087138,
     "end_time": "2023-12-23T19:10:51.820257",
     "exception": false,
     "start_time": "2023-12-23T19:10:50.733119",
     "status": "completed"
    },
    "tags": []
   },
   "outputs": [
    {
     "data": {
      "text/plain": [
       "array([[186644,  13356],\n",
       "       [ 18420, 181580]], dtype=int64)"
      ]
     },
     "execution_count": 18,
     "metadata": {},
     "output_type": "execute_result"
    },
    {
     "data": {
      "image/png": "[encoded data removed]",
      "text/plain": [
       "<Figure size 432x288 with 2 Axes>"
      ]
     },
     "metadata": {
      "needs_background": "light"
     },
     "output_type": "display_data"
    }
   ],
   "source": [
    "# Evaluate with a confusion matrix and classification report\n",
    "\n",
    "import seaborn as sns\n",
    "CM = confusion_matrix(y_test, y_pred)\n",
    "sns.heatmap(CM,annot=True,center = True,fmt='g',cmap='Blues')\n",
    "CM"
   ]
  },
  {
   "cell_type": "code",
   "execution_count": 30,
   "id": "907fb04c",
   "metadata": {},
   "outputs": [
    {
     "data": {
      "text/plain": [
       "<AxesSubplot:>"
      ]
     },
     "execution_count": 30,
     "metadata": {},
     "output_type": "execute_result"
    },
    {
     "data": {
      "image/png": "[encoded data removed]",
      "text/plain": [
       "<Figure size 432x288 with 2 Axes>"
      ]
     },
     "metadata": {
      "needs_background": "light"
     },
     "output_type": "display_data"
    }
   ],
   "source": [
    "import numpy as np\n",
    "sns.heatmap(CM/np.sum(CM,axis=1), annot=True, \n",
    "            fmt='.2%', cmap='Blues')\n"
   ]
  },
  {
   "cell_type": "code",
   "execution_count": 23,
   "id": "9e2ae403",
   "metadata": {
    "_cell_guid": "0128c9d1-511a-4be3-8263-de7dac7b2629",
    "_uuid": "cbc43554-9db7-4b20-8376-aef5f479b5f0",
    "execution": {
     "iopub.execute_input": "2023-12-23T19:10:52.699984Z",
     "iopub.status.busy": "2023-12-23T19:10:52.699325Z",
     "iopub.status.idle": "2023-12-23T19:10:53.371753Z",
     "shell.execute_reply": "2023-12-23T19:10:53.370317Z"
    },
    "jupyter": {
     "outputs_hidden": false
    },
    "papermill": {
     "duration": 1.115485,
     "end_time": "2023-12-23T19:10:53.374061",
     "exception": false,
     "start_time": "2023-12-23T19:10:52.258576",
     "status": "completed"
    },
    "tags": []
   },
   "outputs": [
    {
     "name": "stdout",
     "output_type": "stream",
     "text": [
      "              precision    recall  f1-score   support\n",
      "\n",
      "           0       0.91      0.93      0.92    200000\n",
      "           1       0.93      0.91      0.92    200000\n",
      "\n",
      "    accuracy                           0.92    400000\n",
      "   macro avg       0.92      0.92      0.92    400000\n",
      "weighted avg       0.92      0.92      0.92    400000\n",
      "\n"
     ]
    }
   ],
   "source": [
    "from sklearn.metrics import classification_report\n",
    "print(classification_report(y_test, y_pred))"
   ]
  },
  {
   "cell_type": "code",
   "execution_count": null,
   "id": "3d4297ce",
   "metadata": {},
   "outputs": [],
   "source": []
  }
 ],
 "metadata": {
  "kaggle": {
   "accelerator": "nvidiaTeslaT4",
   "dataSources": [
    {
     "datasetId": 1305,
     "sourceId": 800230,
     "sourceType": "datasetVersion"
    }
   ],
   "dockerImageVersionId": 30626,
   "isGpuEnabled": true,
   "isInternetEnabled": true,
   "language": "python",
   "sourceType": "notebook"
  },
  "kernelspec": {
   "display_name": "Python 3 (ipykernel)",
   "language": "python",
   "name": "python3"
  },
  "language_info": {
   "codemirror_mode": {
    "name": "ipython",
    "version": 3
   },
   "file_extension": ".py",
   "mimetype": "text/x-python",
   "name": "python",
   "nbconvert_exporter": "python",
   "pygments_lexer": "ipython3",
   "version": "3.11.4"
  },
  "nbTranslate": {
   "displayLangs": [
    "*"
   ],
   "hotkey": "alt-t",
   "langInMainMenu": true,
   "sourceLang": "en",
   "targetLang": "fr",
   "useGoogleTranslate": true
  },
  "papermill": {
   "default_parameters": {},
   "duration": 1484.05651,
   "end_time": "2023-12-23T19:10:56.945285",
   "environment_variables": {},
   "exception": null,
   "input_path": "__notebook__.ipynb",
   "output_path": "__notebook__.ipynb",
   "parameters": {},
   "start_time": "2023-12-23T18:46:12.888775",
   "version": "2.4.0"
  }
 },
 "nbformat": 4,
 "nbformat_minor": 5
}
